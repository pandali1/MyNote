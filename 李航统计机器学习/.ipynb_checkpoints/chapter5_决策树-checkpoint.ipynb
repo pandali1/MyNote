{
 "cells": [
  {
   "cell_type": "code",
   "execution_count": 1,
   "metadata": {},
   "outputs": [],
   "source": [
    "import pandas as pd \n",
    "import numpy as np "
   ]
  },
  {
   "cell_type": "code",
   "execution_count": 2,
   "metadata": {},
   "outputs": [
    {
     "data": {
      "text/html": [
       "<div>\n",
       "<style scoped>\n",
       "    .dataframe tbody tr th:only-of-type {\n",
       "        vertical-align: middle;\n",
       "    }\n",
       "\n",
       "    .dataframe tbody tr th {\n",
       "        vertical-align: top;\n",
       "    }\n",
       "\n",
       "    .dataframe thead th {\n",
       "        text-align: right;\n",
       "    }\n",
       "</style>\n",
       "<table border=\"1\" class=\"dataframe\">\n",
       "  <thead>\n",
       "    <tr style=\"text-align: right;\">\n",
       "      <th></th>\n",
       "      <th>年龄</th>\n",
       "      <th>有工作</th>\n",
       "      <th>有自己的房子</th>\n",
       "      <th>信贷情况</th>\n",
       "      <th>类别</th>\n",
       "    </tr>\n",
       "  </thead>\n",
       "  <tbody>\n",
       "    <tr>\n",
       "      <th>0</th>\n",
       "      <td>青年</td>\n",
       "      <td>否</td>\n",
       "      <td>否</td>\n",
       "      <td>一般</td>\n",
       "      <td>否</td>\n",
       "    </tr>\n",
       "    <tr>\n",
       "      <th>1</th>\n",
       "      <td>青年</td>\n",
       "      <td>否</td>\n",
       "      <td>否</td>\n",
       "      <td>好</td>\n",
       "      <td>否</td>\n",
       "    </tr>\n",
       "    <tr>\n",
       "      <th>2</th>\n",
       "      <td>青年</td>\n",
       "      <td>是</td>\n",
       "      <td>否</td>\n",
       "      <td>好</td>\n",
       "      <td>是</td>\n",
       "    </tr>\n",
       "    <tr>\n",
       "      <th>3</th>\n",
       "      <td>青年</td>\n",
       "      <td>是</td>\n",
       "      <td>是</td>\n",
       "      <td>一般</td>\n",
       "      <td>是</td>\n",
       "    </tr>\n",
       "    <tr>\n",
       "      <th>4</th>\n",
       "      <td>青年</td>\n",
       "      <td>否</td>\n",
       "      <td>否</td>\n",
       "      <td>一般</td>\n",
       "      <td>否</td>\n",
       "    </tr>\n",
       "    <tr>\n",
       "      <th>5</th>\n",
       "      <td>中年</td>\n",
       "      <td>否</td>\n",
       "      <td>否</td>\n",
       "      <td>一般</td>\n",
       "      <td>否</td>\n",
       "    </tr>\n",
       "    <tr>\n",
       "      <th>6</th>\n",
       "      <td>中年</td>\n",
       "      <td>否</td>\n",
       "      <td>否</td>\n",
       "      <td>好</td>\n",
       "      <td>否</td>\n",
       "    </tr>\n",
       "    <tr>\n",
       "      <th>7</th>\n",
       "      <td>中年</td>\n",
       "      <td>是</td>\n",
       "      <td>是</td>\n",
       "      <td>好</td>\n",
       "      <td>是</td>\n",
       "    </tr>\n",
       "    <tr>\n",
       "      <th>8</th>\n",
       "      <td>中年</td>\n",
       "      <td>否</td>\n",
       "      <td>是</td>\n",
       "      <td>非常好</td>\n",
       "      <td>是</td>\n",
       "    </tr>\n",
       "    <tr>\n",
       "      <th>9</th>\n",
       "      <td>中年</td>\n",
       "      <td>否</td>\n",
       "      <td>是</td>\n",
       "      <td>非常好</td>\n",
       "      <td>是</td>\n",
       "    </tr>\n",
       "    <tr>\n",
       "      <th>10</th>\n",
       "      <td>老年</td>\n",
       "      <td>否</td>\n",
       "      <td>是</td>\n",
       "      <td>非常好</td>\n",
       "      <td>是</td>\n",
       "    </tr>\n",
       "    <tr>\n",
       "      <th>11</th>\n",
       "      <td>老年</td>\n",
       "      <td>否</td>\n",
       "      <td>是</td>\n",
       "      <td>好</td>\n",
       "      <td>是</td>\n",
       "    </tr>\n",
       "    <tr>\n",
       "      <th>12</th>\n",
       "      <td>老年</td>\n",
       "      <td>是</td>\n",
       "      <td>否</td>\n",
       "      <td>好</td>\n",
       "      <td>是</td>\n",
       "    </tr>\n",
       "    <tr>\n",
       "      <th>13</th>\n",
       "      <td>老年</td>\n",
       "      <td>是</td>\n",
       "      <td>否</td>\n",
       "      <td>非常好</td>\n",
       "      <td>是</td>\n",
       "    </tr>\n",
       "    <tr>\n",
       "      <th>14</th>\n",
       "      <td>老年</td>\n",
       "      <td>否</td>\n",
       "      <td>否</td>\n",
       "      <td>一般</td>\n",
       "      <td>否</td>\n",
       "    </tr>\n",
       "  </tbody>\n",
       "</table>\n",
       "</div>"
      ],
      "text/plain": [
       "    年龄 有工作 有自己的房子 信贷情况 类别\n",
       "0   青年   否      否   一般  否\n",
       "1   青年   否      否    好  否\n",
       "2   青年   是      否    好  是\n",
       "3   青年   是      是   一般  是\n",
       "4   青年   否      否   一般  否\n",
       "5   中年   否      否   一般  否\n",
       "6   中年   否      否    好  否\n",
       "7   中年   是      是    好  是\n",
       "8   中年   否      是  非常好  是\n",
       "9   中年   否      是  非常好  是\n",
       "10  老年   否      是  非常好  是\n",
       "11  老年   否      是    好  是\n",
       "12  老年   是      否    好  是\n",
       "13  老年   是      否  非常好  是\n",
       "14  老年   否      否   一般  否"
      ]
     },
     "execution_count": 2,
     "metadata": {},
     "output_type": "execute_result"
    }
   ],
   "source": [
    "def create_data():\n",
    "    datasets = [['青年', '否', '否', '一般', '否'],\n",
    "               ['青年', '否', '否', '好', '否'],\n",
    "               ['青年', '是', '否', '好', '是'],\n",
    "               ['青年', '是', '是', '一般', '是'],\n",
    "               ['青年', '否', '否', '一般', '否'],\n",
    "               ['中年', '否', '否', '一般', '否'],\n",
    "               ['中年', '否', '否', '好', '否'],\n",
    "               ['中年', '是', '是', '好', '是'],\n",
    "               ['中年', '否', '是', '非常好', '是'],\n",
    "               ['中年', '否', '是', '非常好', '是'],\n",
    "               ['老年', '否', '是', '非常好', '是'],\n",
    "               ['老年', '否', '是', '好', '是'],\n",
    "               ['老年', '是', '否', '好', '是'],\n",
    "               ['老年', '是', '否', '非常好', '是'],\n",
    "               ['老年', '否', '否', '一般', '否'],\n",
    "               ]\n",
    "    labels = [u'年龄', u'有工作', u'有自己的房子', u'信贷情况', u'类别']\n",
    "    # 返回数据集和每个维度的名称\n",
    "    return datasets, labels\n",
    "\n",
    "datasets, labels = create_data()\n",
    "train_data = pd.DataFrame(datasets, columns=labels)\n",
    "train_data"
   ]
  },
  {
   "cell_type": "markdown",
   "metadata": {
    "code_folding": []
   },
   "source": [
    "## 例题5.2"
   ]
  },
  {
   "cell_type": "code",
   "execution_count": 3,
   "metadata": {},
   "outputs": [],
   "source": [
    "# 定义计算熵的函数\n",
    "def cal_entropy(y):\n",
    "    '''\n",
    "    计算给定标签列y的熵值\n",
    "    y是一维向量\n",
    "    输出：信息熵\n",
    "    '''\n",
    "    pi = pd.value_counts(y)/len(y)\n",
    "    return -np.sum(np.log2(pi) * pi)\n",
    "\n",
    "def cal_cond_entropy(data,attr1,attr2):\n",
    "    '''\n",
    "    data:输入的pdFrame数据 \n",
    "    attr1：条件X属性名 \n",
    "    attr2:标签Y的属性名\n",
    "    输出：H（Y|X)\n",
    "    '''\n",
    "    ei = data.groupby(attr1).apply(lambda x: cal_entropy(x[attr2]))\n",
    "    pi =  pd.value_counts(data[attr1])/data.shape[0]\n",
    "    return np.sum(ei * pi)\n",
    "\n",
    "def cal_info_gain(data,attr1,attr2):\n",
    "    '''\n",
    "    计算信息增益\n",
    "    \n",
    "    data:输入的pdFrame数据 \n",
    "    attr1：条件X属性名 \n",
    "    attr2:标签Y的属性名\n",
    "    输出：G（D,X)\n",
    "    '''\n",
    "    cond = cal_cond_entropy(data,attr1,attr2)\n",
    "    etro = cal_entropy(data[attr2])\n",
    "    return etro - cond\n",
    "\n",
    "def cal_info_ratio(data,attr1,attr2):\n",
    "    '''\n",
    "    计算信息增益率\n",
    "    '''\n",
    "    return cal_info_gain(data,attr1,attr2)/cal_entropy(data[attr1])"
   ]
  },
  {
   "cell_type": "code",
   "execution_count": 4,
   "metadata": {},
   "outputs": [
    {
     "data": {
      "text/plain": [
       "0.08300749985576883"
      ]
     },
     "execution_count": 4,
     "metadata": {},
     "output_type": "execute_result"
    }
   ],
   "source": [
    "cal_info_gain(train_data,'年龄','类别')"
   ]
  },
  {
   "cell_type": "code",
   "execution_count": 5,
   "metadata": {},
   "outputs": [],
   "source": [
    "def find_best_infogain(data,y):\n",
    "    '''\n",
    "    data:数据 \n",
    "    y:目标标签的列名 \n",
    "    输出：信息熵字典和最优分割特征\n",
    "    '''\n",
    "    info_gain = {}\n",
    "    for i in data.columns[:-1]:\n",
    "        info_gain[i] = cal_info_gain(data,i,y)\n",
    "    return info_gain,max(zip(info_gain.values(),info_gain.keys()))[1]"
   ]
  },
  {
   "cell_type": "code",
   "execution_count": 6,
   "metadata": {},
   "outputs": [
    {
     "data": {
      "text/plain": [
       "({'年龄': 0.08300749985576883,\n",
       "  '有工作': 0.32365019815155627,\n",
       "  '有自己的房子': 0.4199730940219749,\n",
       "  '信贷情况': 0.36298956253708536},\n",
       " '有自己的房子')"
      ]
     },
     "execution_count": 6,
     "metadata": {},
     "output_type": "execute_result"
    }
   ],
   "source": [
    "find_best_infogain(train_data,'类别')"
   ]
  },
  {
   "cell_type": "markdown",
   "metadata": {},
   "source": [
    "## ID3算法生成决策树"
   ]
  },
  {
   "cell_type": "code",
   "execution_count": 52,
   "metadata": {},
   "outputs": [],
   "source": [
    "class Node:\n",
    "    '''\n",
    "    节点类\n",
    "    '''\n",
    "    def __init__(self,root = True,label = None,feature_name = None,features=None):\n",
    "        '''\n",
    "        参数 ：\n",
    "            root：是否是单节点树 \n",
    "            label: 此节节点的类标签（叶节点） \n",
    "            featrue_name:此节点的特征名（内节点）\n",
    "            features：存储最原始的特征集\n",
    "        '''\n",
    "        self.root = root \n",
    "        self.label = label\n",
    "        self.feature_name = feature_name\n",
    "        self.features = features #存放原始排序的特征名序列\n",
    "        self.tree = {}#存放子节点\n",
    "        self.result = {\n",
    "            'label:': self.label,\n",
    "            'feature': self.feature_name,\n",
    "            'tree': self.tree\n",
    "        }\n",
    "    def __repr__(self):\n",
    "        '''返回此节点的信息'''\n",
    "        return '{}'.format(self.result)\n",
    "\n",
    "    def add_node(self,val,node):\n",
    "        '''\n",
    "        进行分支\n",
    "        val是分支属性的值 \n",
    "        node 是下一个节点 \n",
    "        '''\n",
    "        self.tree[val] = node\n",
    "\n",
    "    def predict(self,features):\n",
    "        '''\n",
    "        进行预测\n",
    "        features:一个样本点 \n",
    "        '''\n",
    "        if self.root is True:#遇到叶子节点，则返回它的值\n",
    "            return self.label\n",
    "        else:\n",
    "            return self.tree[features[self.features == self.feature_name][0]].predict(features)\n",
    "\n",
    "    "
   ]
  },
  {
   "cell_type": "code",
   "execution_count": 53,
   "metadata": {},
   "outputs": [],
   "source": [
    "class DTree:\n",
    "    '''\n",
    "    决策树模型 \n",
    "    '''\n",
    "    def __init__(self,epsilon = 0.1):\n",
    "        self.epsilon = epsilon\n",
    "        self._tree = {}\n",
    "    \n",
    "    # 定义计算熵的函数\n",
    "    @staticmethod\n",
    "    def cal_entropy(y):\n",
    "        '''\n",
    "        计算给定标签列y的熵值\n",
    "        y是一维向量\n",
    "        输出：信息熵\n",
    "        '''\n",
    "        pi = pd.value_counts(y)/len(y)\n",
    "        return -np.sum(np.log2(pi) * pi)\n",
    "    # 经验条件熵\n",
    "    def cal_cond_entropy(self,data,attr1,attr2):\n",
    "        '''\n",
    "        data:输入的pdFrame数据 \n",
    "        attr1：条件X属性名 \n",
    "        attr2:标签Y的属性名\n",
    "        输出：H（Y|X)\n",
    "        '''\n",
    "        ei = data.groupby(attr1).apply(lambda x: cal_entropy(x[attr2]))\n",
    "        pi =  pd.value_counts(data[attr1])/data.shape[0]\n",
    "        return np.sum(ei * pi)\n",
    "    #信息增益\n",
    "    def cal_info_gain(self,data,attr1,attr2):\n",
    "        '''\n",
    "        计算信息增益\n",
    "\n",
    "        data:输入的pdFrame数据 \n",
    "        attr1：条件X属性名 \n",
    "        attr2:标签Y的属性名\n",
    "        输出：G（D,X)\n",
    "        '''\n",
    "        cond = self.cal_cond_entropy(data,attr1,attr2)\n",
    "        etro = self.cal_entropy(data[attr2])\n",
    "        return etro - cond\n",
    "\n",
    "    def cal_info_ratio(data,attr1,attr2):\n",
    "        '''\n",
    "        计算信息增益率\n",
    "        '''\n",
    "        return self.info_gain(data,attr1,attr2)/self.cal_entropy(data[attr1])\n",
    "    \n",
    "    #寻找最佳分支特征\n",
    "    def find_best_infogain(self,data,y):\n",
    "        '''\n",
    "        data:数据 \n",
    "        y:目标标签的列名 \n",
    "        输出：信息熵字典和最优分割特征\n",
    "        '''\n",
    "        info_gain = {}\n",
    "        for i in data.columns[:-1]:\n",
    "            info_gain[i] = self.cal_info_gain(data,i,y)\n",
    "        return max(zip(info_gain.values(),info_gain.keys()))\n",
    "    \n",
    "    def train(self,train_data,taget_name,columns_name):\n",
    "        '''\n",
    "        从训练数据中生成决策树 \n",
    "        '''\n",
    "        x_train,y_train,features = train_data.iloc[:,:-1],train_data.iloc[:,-1],train_data.columns[:-1]\n",
    "        \n",
    "        #1 若D中实例属于同一类Ck，则T为单节点树，并将类Ck作为结点的类标记，返回T\n",
    "        if len(y_train.value_counts()) == 1:\n",
    "            return Node(root = True,label=y_train.iloc[0])\n",
    "        \n",
    "        #2 若A为空，则T为单节点树，将D中实例树最大的类Ck作为该节点的类标记，返回T\n",
    "        if len(features) == 0 :\n",
    "            return Node(root=True,label=y_train.value_counts().sort_values(ascending = False).index[0])\n",
    "        \n",
    "        # 3,计算最大信息增益 同5.1,Ag为信息增益最大的特征\n",
    "        max_info_gain,max_feature_name= self.find_best_infogain(train_data,taget_name)\n",
    "        \n",
    "        #4 ,Ag的信息增益小于阈值eta,则置T为单节点树，并将D中是实例数最大的类Ck作为该节点的类标记，返回T\n",
    "        if max_info_gain < self.epsilon:\n",
    "            return Node(root=True,lable =y_train.value_counts().sort_values(ascending = False).index[0] )\n",
    "        \n",
    "        # 5,构建Ag子集\n",
    "        node_tree = Node(root = False,feature_name=max_feature_name,features=columns_name\n",
    "                        )\n",
    "        \n",
    "        feature_valuelist = train_data[max_feature_name].value_counts().index\n",
    "        \n",
    "        for val in  feature_valuelist:\n",
    "            sub_train_df = train_data.loc[train_data[max_feature_name]==val].drop([max_feature_name],axis=1)\n",
    "            \n",
    "            # 生成递归树\n",
    "            sub_tree = self.train(sub_train_df,taget_name,columns_name)\n",
    "            node_tree.add_node(val,sub_tree)\n",
    "        return node_tree\n",
    "    \n",
    "    def fit(self,train_data,taget_name,columns_name):\n",
    "        self._tree = self.train(train_data,taget_name,columns_name)\n",
    "        return self._tree\n",
    "    \n",
    "    def predict(self,X_test):\n",
    "        return self._tree.predict(X_test)\n",
    "        "
   ]
  },
  {
   "cell_type": "code",
   "execution_count": 54,
   "metadata": {},
   "outputs": [],
   "source": [
    "dt = DTree()\n",
    "tree = dt.fit(train_data,'类别',train_data.columns[:-1])"
   ]
  },
  {
   "cell_type": "code",
   "execution_count": 64,
   "metadata": {},
   "outputs": [
    {
     "name": "stdout",
     "output_type": "stream",
     "text": [
      "None\n",
      "dict_keys(['否', '是'])\n",
      "有自己的房子\n"
     ]
    }
   ],
   "source": [
    "print(tree.label)\n",
    "print(tree.tree.keys())\n",
    "print(tree.feature_name)"
   ]
  },
  {
   "cell_type": "code",
   "execution_count": 56,
   "metadata": {},
   "outputs": [
    {
     "data": {
      "text/plain": [
       "'否'"
      ]
     },
     "execution_count": 56,
     "metadata": {},
     "output_type": "execute_result"
    }
   ],
   "source": [
    "tree.predict(np.array(['老年', '否', '否', '一般']))"
   ]
  },
  {
   "cell_type": "code",
   "execution_count": 62,
   "metadata": {},
   "outputs": [
    {
     "name": "stdout",
     "output_type": "stream",
     "text": [
      "1.0\n"
     ]
    }
   ],
   "source": [
    "# 由于未剪枝，因此树会产生过拟合，预测准确度为1\n",
    "y_pred = []\n",
    "for i in range(train_data.shape[0]):\n",
    "    pred = tree.predict(train_data.iloc[i,:-1].values)\n",
    "    y_pred.append(pred)\n",
    "from sklearn.metrics import accuracy_score\n",
    "print(accuracy_score(y_true=train_data.iloc[:,-1],y_pred=y_pred))"
   ]
  },
  {
   "cell_type": "markdown",
   "metadata": {},
   "source": [
    "## 使用sklearn"
   ]
  },
  {
   "cell_type": "code",
   "execution_count": 68,
   "metadata": {},
   "outputs": [],
   "source": [
    "# data\n",
    "from sklearn.datasets import load_iris\n",
    "from sklearn.model_selection import train_test_split\n",
    "def create_data():\n",
    "    iris = load_iris()\n",
    "    df = pd.DataFrame(iris.data, columns=iris.feature_names)\n",
    "    df['label'] = iris.target\n",
    "    df.columns = [\n",
    "        'sepal length', 'sepal width', 'petal length', 'petal width', 'label'\n",
    "    ]\n",
    "    data = np.array(df.iloc[:100, [0, 1, -1]])\n",
    "    # print(data)\n",
    "    return data[:, :2], data[:, -1]\n",
    "\n",
    "\n",
    "X, y = create_data()\n",
    "X_train, X_test, y_train, y_test = train_test_split(X, y, test_size=0.3)"
   ]
  },
  {
   "cell_type": "code",
   "execution_count": 70,
   "metadata": {},
   "outputs": [],
   "source": [
    "from sklearn.tree import DecisionTreeClassifier\n",
    "from sklearn.tree import export_graphviz\n",
    "import graphviz"
   ]
  },
  {
   "cell_type": "code",
   "execution_count": 71,
   "metadata": {},
   "outputs": [
    {
     "data": {
      "text/plain": [
       "0.9333333333333333"
      ]
     },
     "execution_count": 71,
     "metadata": {},
     "output_type": "execute_result"
    }
   ],
   "source": [
    "clf = DecisionTreeClassifier(criterion='entropy')\n",
    "clf.fit(X_train,y_train)\n",
    "clf.score(X_test,y_test)"
   ]
  },
  {
   "cell_type": "code",
   "execution_count": null,
   "metadata": {},
   "outputs": [],
   "source": []
  },
  {
   "cell_type": "markdown",
   "metadata": {},
   "source": [
    "## 二叉回归树"
   ]
  },
  {
   "cell_type": "code",
   "execution_count": 83,
   "metadata": {},
   "outputs": [],
   "source": [
    "class LeastRTree:\n",
    "    def __init__(self,train_X,y,epsilon):\n",
    "        self.x = train_X\n",
    "        self.y = y\n",
    "        self.feature_count = train_X.shape[1]\n",
    "        self.epsilon = epsilon\n",
    "        self.tree = None\n",
    "    def _fit(self,x,y,feature_count,epsilon):\n",
    "        # 选择最优切分变量j与对应的扫描切分点s\n",
    "        (j, s, minval, c1, c2) = self._divide(x, y, feature_count)\n",
    "        tree = {\"feature\": j, \"value\": x[s, j], \"left\": None, \"right\": None}\n",
    "        if minval < self.epsilon or len(y[np.where(x[:, j] <= x[s, j])]) <= 1:\n",
    "            tree[\"left\"] = c1\n",
    "        else:\n",
    "            tree[\"left\"] = self._fit(x[np.where(x[:, j] <= x[s, j])],\n",
    "                                     y[np.where(x[:, j] <= x[s, j])],\n",
    "                                     self.feature_count, self.epsilon)\n",
    "        if minval < self.epsilon or len(y[np.where(x[:, j] > s)]) <= 1:\n",
    "            tree[\"right\"] = c2\n",
    "        else:\n",
    "            tree[\"right\"] = self._fit(x[np.where(x[:, j] > x[s, j])],\n",
    "                                      y[np.where(x[:, j] > x[s, j])],\n",
    "                                      self.feature_count, self.epsilon)\n",
    "        return tree\n",
    "    def fit(self):\n",
    "        self.tree = self._fit(self.x, self.y, self.feature_count, self.epsilon)\n",
    "\n",
    "    @staticmethod\n",
    "    def _divide(x,y,feature_count):\n",
    "        cost = np.zeros((feature_count,len(x)))\n",
    "        for i in range(feature_count):\n",
    "            for k in range(len(x)):\n",
    "                value = x[k,i]\n",
    "                y1 = y[np.where(x[:,i]<=value)]\n",
    "                c1 = np.mean(y1)\n",
    "                y2 = y[np.where(x[:,i]>value)]\n",
    "                c2 = np.mean(y2)\n",
    "                y1 = y1 -c1\n",
    "                y2 = y2 -c2\n",
    "                cost[i,k] = np.sum(y1*y1)+np.sum(y2*y2)\n",
    "        cost_index = np.where(cost == np.min(cost))\n",
    "        \n",
    "        j = cost_index[0][0]\n",
    "        s = cost_index[1][0]\n",
    "        c1 = np.mean(y[np.where(x[:, j] <= x[s, j])])\n",
    "        c2 = np.mean(y[np.where(x[:, j] > x[s, j])])\n",
    "        return j, s, cost[cost_index], c1, c2"
   ]
  },
  {
   "cell_type": "code",
   "execution_count": 85,
   "metadata": {},
   "outputs": [
    {
     "name": "stderr",
     "output_type": "stream",
     "text": [
      "D:\\Program Files\\Anaconda3\\lib\\site-packages\\numpy\\core\\fromnumeric.py:3334: RuntimeWarning: Mean of empty slice.\n",
      "  return _methods._mean(a, axis=axis, dtype=dtype,\n",
      "D:\\Program Files\\Anaconda3\\lib\\site-packages\\numpy\\core\\_methods.py:161: RuntimeWarning: invalid value encountered in double_scalars\n",
      "  ret = ret.dtype.type(ret / rcount)\n"
     ]
    },
    {
     "data": {
      "text/plain": [
       "{'feature': 0,\n",
       " 'value': 5,\n",
       " 'left': {'feature': 0, 'value': 3, 'left': 4.72, 'right': 5.57},\n",
       " 'right': {'feature': 0,\n",
       "  'value': 7,\n",
       "  'left': {'feature': 0, 'value': 6, 'left': 7.05, 'right': 7.9},\n",
       "  'right': {'feature': 0, 'value': 8, 'left': 8.23, 'right': 8.85}}}"
      ]
     },
     "execution_count": 85,
     "metadata": {},
     "output_type": "execute_result"
    }
   ],
   "source": [
    "train_X = np.array([[1, 2, 3, 4, 5, 6, 7, 8, 9, 10]]).T\n",
    "y = np.array([4.50, 4.75, 4.91, 5.34, 5.80, 7.05, 7.90, 8.23, 8.70, 9.00])\n",
    "\n",
    "model_tree = LeastRTree(train_X, y, .2)\n",
    "model_tree.fit()\n",
    "model_tree.tree"
   ]
  },
  {
   "cell_type": "code",
   "execution_count": null,
   "metadata": {},
   "outputs": [],
   "source": []
  },
  {
   "cell_type": "code",
   "execution_count": null,
   "metadata": {},
   "outputs": [],
   "source": []
  }
 ],
 "metadata": {
  "kernelspec": {
   "display_name": "Python 3",
   "language": "python",
   "name": "python3"
  },
  "language_info": {
   "codemirror_mode": {
    "name": "ipython",
    "version": 3
   },
   "file_extension": ".py",
   "mimetype": "text/x-python",
   "name": "python",
   "nbconvert_exporter": "python",
   "pygments_lexer": "ipython3",
   "version": "3.8.3"
  },
  "toc": {
   "base_numbering": 1,
   "nav_menu": {},
   "number_sections": true,
   "sideBar": true,
   "skip_h1_title": false,
   "title_cell": "Table of Contents",
   "title_sidebar": "Contents",
   "toc_cell": false,
   "toc_position": {},
   "toc_section_display": true,
   "toc_window_display": false
  }
 },
 "nbformat": 4,
 "nbformat_minor": 2
}
