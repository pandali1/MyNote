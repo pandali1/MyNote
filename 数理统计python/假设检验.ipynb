{
 "cells": [
  {
   "cell_type": "code",
   "execution_count": 2,
   "metadata": {},
   "outputs": [],
   "source": [
    "import scipy.stats as ss\n",
    "import numpy as np"
   ]
  },
  {
   "cell_type": "markdown",
   "metadata": {},
   "source": [
    "https://blog.csdn.net/qq_35125180/category_10161271.html"
   ]
  },
  {
   "cell_type": "code",
   "execution_count": 9,
   "metadata": {},
   "outputs": [],
   "source": [
    "# pdf 概率密度函数\n",
    "# cdf 累积概率密度函数，求左侧检验P值\n",
    "# ppf 下分位数\n",
    "# sf 1 -cdf  求右侧检验P值\n",
    "# isf 上分位数\n",
    "# mean()均值 var 方差 std 标准差 \n",
    "# fit 参数估计\n",
    "# expect 求期望\n",
    "# rvs 生成随机值"
   ]
  },
  {
   "cell_type": "markdown",
   "metadata": {
    "code_folding": []
   },
   "source": [
    "# 正态总体参数的假设检验"
   ]
  },
  {
   "cell_type": "markdown",
   "metadata": {},
   "source": [
    "## 单个正态总体方差已知时总体均值的检验"
   ]
  },
  {
   "cell_type": "code",
   "execution_count": 8,
   "metadata": {},
   "outputs": [
    {
     "name": "stdout",
     "output_type": "stream",
     "text": [
      "P_value = 2.22751320200631e-19\n"
     ]
    }
   ],
   "source": [
    "l1 = [10512,10623,10668,10554,10776,10707,10557,10581,10666,10670]\n",
    "# 右侧检验 H0 mu = 10560 H1:mu > 10560\n",
    "\n",
    "Z = ss.norm(loc = 0,scale = 1)#标准正态分布\n",
    "mu0 = 10560.0 # H0假设的均值\n",
    "sigma = 80 # 已知方差\n",
    "\n",
    "x_bar = np.array(l1,dtype = np.float32).mean()# 计算样本均值\n",
    "z = (x_bar- mu0)/(sigma/len(l1)) #计算检验统计量\n",
    "\n",
    "print(\"P_value = {}\".format(Z.sf(z)))#输出P值"
   ]
  },
  {
   "cell_type": "code",
   "execution_count": 6,
   "metadata": {},
   "outputs": [
    {
     "data": {
      "text/plain": [
       "(8.925048828125, 10631.4)"
      ]
     },
     "execution_count": 6,
     "metadata": {},
     "output_type": "execute_result"
    }
   ],
   "source": [
    "z,x_bar"
   ]
  },
  {
   "cell_type": "code",
   "execution_count": 15,
   "metadata": {},
   "outputs": [],
   "source": [
    "def ztest_1simple(X,u0,sigma,side = 'both'):\n",
    "    '''\n",
    "    需import numpy as np\n",
    "        import scipy.stats as ss\n",
    "    参数 \n",
    "        进行方差已知的均值检验（单样本）\n",
    "        X：样本数据\n",
    "        u0:零假设均值 \n",
    "        sigma :已知的均值 \n",
    "        side = 'both','left','right'\n",
    "    返回值： \n",
    "        return 假设检验的P值 \n",
    "    '''\n",
    "    x_mean = np.array(X).mean()\n",
    "    x_num = len(X)\n",
    "    Z = ss.norm()\n",
    "    z = (x_mean - u0)/(sigma/x_num)\n",
    "    if side == 'both':\n",
    "        z0 = np.abs(z)\n",
    "        return Z.cdf(-z0) + Z.sf(z0)\n",
    "    if side == 'left':\n",
    "        return Z.cdf(z)\n",
    "    if side =='right':\n",
    "        return Z.sf(z)"
   ]
  },
  {
   "cell_type": "code",
   "execution_count": 16,
   "metadata": {},
   "outputs": [
    {
     "data": {
      "text/plain": [
       "2.2284960498548793e-19"
      ]
     },
     "execution_count": 16,
     "metadata": {},
     "output_type": "execute_result"
    }
   ],
   "source": [
    "ztest_1simple(l1,10560,80,'right')"
   ]
  },
  {
   "cell_type": "markdown",
   "metadata": {
    "code_folding": []
   },
   "source": [
    "## 单个正态总体方差未知时的总体均值检验"
   ]
  },
  {
   "cell_type": "markdown",
   "metadata": {},
   "source": [
    "输入：数据 和零假设均值<br>\n",
    "输出：检验统计量和P值（双尾检验）当为单尾检验时，要除以2"
   ]
  },
  {
   "cell_type": "code",
   "execution_count": 18,
   "metadata": {},
   "outputs": [],
   "source": [
    "#使用t检验函数"
   ]
  },
  {
   "cell_type": "code",
   "execution_count": 19,
   "metadata": {},
   "outputs": [
    {
     "data": {
      "text/plain": [
       "Ttest_1sampResult(statistic=2.78759777774592, pvalue=0.021136656081453067)"
      ]
     },
     "execution_count": 19,
     "metadata": {},
     "output_type": "execute_result"
    }
   ],
   "source": [
    "ss.ttest_1samp(l1,popmean=10560)\n"
   ]
  },
  {
   "cell_type": "markdown",
   "metadata": {},
   "source": [
    "## 单个正态总体方差的检验"
   ]
  },
  {
   "cell_type": "code",
   "execution_count": 35,
   "metadata": {},
   "outputs": [],
   "source": [
    "def chi2test(X,sigma,side = 'both'):\n",
    "    '''\n",
    "    需import numpy as np\n",
    "        import scipy.stats as ss\n",
    "    参数 \n",
    "        进行方差已知的均值检验（单样本）\n",
    "        X：样本数据\n",
    "        u0:零假设均值 \n",
    "        sigma :已知的均值 \n",
    "        side = 'both','left','right'\n",
    "    返回值： \n",
    "        return 假设检验的P值 \n",
    "    '''\n",
    "    x_var = np.cov(np.array(X))\n",
    "    x_num = len(X)\n",
    "    chi2 = ss.chi2(x_num-1)\n",
    "    z = (x_num-1)*x_var/np.square(sigma)\n",
    "    if side == 'both':\n",
    "        p = chi2.cdf(z)\n",
    "        return min(p,1.0-p)\n",
    "    if side == 'left':\n",
    "        return chi2.cdf(z)\n",
    "    if side =='right':\n",
    "        return chi2.sf(z)"
   ]
  },
  {
   "cell_type": "code",
   "execution_count": 37,
   "metadata": {},
   "outputs": [
    {
     "data": {
      "text/plain": [
       "0.4167076285222403"
      ]
     },
     "execution_count": 37,
     "metadata": {},
     "output_type": "execute_result"
    }
   ],
   "source": [
    "chi2test(l1,80,'right')"
   ]
  },
  {
   "cell_type": "code",
   "execution_count": 38,
   "metadata": {},
   "outputs": [
    {
     "data": {
      "text/plain": [
       "0.5832923714777597"
      ]
     },
     "execution_count": 38,
     "metadata": {},
     "output_type": "execute_result"
    }
   ],
   "source": [
    "chi2test(l1,80,'left')"
   ]
  },
  {
   "cell_type": "markdown",
   "metadata": {},
   "source": [
    "## 两个正态总体均值相等的检验"
   ]
  },
  {
   "cell_type": "markdown",
   "metadata": {},
   "source": [
    "### 两个方差都已知"
   ]
  },
  {
   "cell_type": "code",
   "execution_count": 39,
   "metadata": {},
   "outputs": [],
   "source": [
    "def ztest_2simple(X,Y,sigma1,sigma2,side = 'both'):\n",
    "    '''\n",
    "    需import numpy as np\n",
    "        import scipy.stats as ss\n",
    "    参数 \n",
    "        进行方差已知的均值检验（单样本）\n",
    "        X：样本数据\n",
    "        u0:零假设均值 \n",
    "        sigma :已知的均值 \n",
    "        side = 'both','left','right'\n",
    "    返回值： \n",
    "        return 假设检验的P值 \n",
    "    '''\n",
    "    x_mean = np.array(X).mean()\n",
    "    y_mean = np.array(Y).mean()\n",
    "    x_num = len(X)\n",
    "    y_num = len(Y)\n",
    "    Z = ss.norm()\n",
    "    z = (x_mean - y_mean)/np.sqrt(sigma1**2/x_num + sigma2**2/y_num)\n",
    "    if side == 'both':\n",
    "        z0 = np.abs(z)\n",
    "        return Z.cdf(-z0) + Z.sf(z0)\n",
    "    if side == 'left':\n",
    "        return Z.cdf(z)\n",
    "    if side =='right':\n",
    "        return Z.sf(z)"
   ]
  },
  {
   "cell_type": "code",
   "execution_count": 42,
   "metadata": {},
   "outputs": [
    {
     "data": {
      "text/plain": [
       "2.9686634344057317e-05"
      ]
     },
     "execution_count": 42,
     "metadata": {},
     "output_type": "execute_result"
    }
   ],
   "source": [
    "l2 = [x + np.random.randint(100,200) for x in l1]\n",
    "ztest_2simple(l1,l2,80,80)"
   ]
  },
  {
   "cell_type": "markdown",
   "metadata": {},
   "source": [
    "### 两正态总体方差未知但相等"
   ]
  },
  {
   "cell_type": "code",
   "execution_count": 43,
   "metadata": {},
   "outputs": [
    {
     "data": {
      "text/plain": [
       "Ttest_indResult(statistic=-3.674486498868449, pvalue=0.0017344565506176805)"
      ]
     },
     "execution_count": 43,
     "metadata": {},
     "output_type": "execute_result"
    }
   ],
   "source": [
    "ss.ttest_ind(l1,l2,equal_var=True)"
   ]
  },
  {
   "cell_type": "markdown",
   "metadata": {},
   "source": [
    "### 两正态总体方差未知且不等"
   ]
  },
  {
   "cell_type": "code",
   "execution_count": 44,
   "metadata": {},
   "outputs": [
    {
     "data": {
      "text/plain": [
       "Ttest_indResult(statistic=-3.674486498868449, pvalue=0.0018384314986924293)"
      ]
     },
     "execution_count": 44,
     "metadata": {},
     "output_type": "execute_result"
    }
   ],
   "source": [
    "ss.ttest_ind(l1,l2,equal_var=False)"
   ]
  },
  {
   "cell_type": "markdown",
   "metadata": {},
   "source": [
    "## 两个正态总体方差相等的检验"
   ]
  },
  {
   "cell_type": "code",
   "execution_count": 49,
   "metadata": {},
   "outputs": [],
   "source": [
    "import numpy as np\n",
    "from scipy import stats\n",
    "\n",
    "def ftest(data1, data2, side='both'):\n",
    "    n1=len(data1)\n",
    "    n2=len(data2)\n",
    "    F = ss.f(dfn=n1-1, dfd=n2-1)\n",
    "    tmp = np.var(data1, ddof=1)/np.var(data2, ddof=1)\n",
    "    ret_left = F.cdf(tmp)\n",
    "    ret_right = F.sf(tmp)\n",
    "    if side=='both':\n",
    "        return 2*min(ret_left, ret_right)\n",
    "    elif side=='left':\n",
    "        return ret_left\n",
    "    return ret_right\n"
   ]
  },
  {
   "cell_type": "code",
   "execution_count": 50,
   "metadata": {},
   "outputs": [
    {
     "data": {
      "text/plain": [
       "0.5427965408986852"
      ]
     },
     "execution_count": 50,
     "metadata": {},
     "output_type": "execute_result"
    }
   ],
   "source": [
    "ftest(l1,l2)"
   ]
  },
  {
   "cell_type": "code",
   "execution_count": null,
   "metadata": {},
   "outputs": [],
   "source": []
  }
 ],
 "metadata": {
  "kernelspec": {
   "display_name": "Python 3",
   "language": "python",
   "name": "python3"
  },
  "language_info": {
   "codemirror_mode": {
    "name": "ipython",
    "version": 3
   },
   "file_extension": ".py",
   "mimetype": "text/x-python",
   "name": "python",
   "nbconvert_exporter": "python",
   "pygments_lexer": "ipython3",
   "version": "3.8.3"
  },
  "toc": {
   "base_numbering": 1,
   "nav_menu": {},
   "number_sections": true,
   "sideBar": true,
   "skip_h1_title": false,
   "title_cell": "Table of Contents",
   "title_sidebar": "Contents",
   "toc_cell": false,
   "toc_position": {},
   "toc_section_display": true,
   "toc_window_display": false
  }
 },
 "nbformat": 4,
 "nbformat_minor": 2
}
