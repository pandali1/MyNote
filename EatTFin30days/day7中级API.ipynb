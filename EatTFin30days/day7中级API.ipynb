{
 "metadata": {
  "language_info": {
   "codemirror_mode": {
    "name": "ipython",
    "version": 3
   },
   "file_extension": ".py",
   "mimetype": "text/x-python",
   "name": "python",
   "nbconvert_exporter": "python",
   "pygments_lexer": "ipython3",
   "version": "3.8.3-final"
  },
  "orig_nbformat": 2,
  "kernelspec": {
   "name": "Python 3.8.3 64-bit ('base': conda)",
   "display_name": "Python 3.8.3 64-bit ('base': conda)",
   "metadata": {
    "interpreter": {
     "hash": "9387e9e37a0af8fff0fcbade4737076ebc87d0c8fec44545ee3d2fd05cdc73df"
    }
   }
  }
 },
 "nbformat": 4,
 "nbformat_minor": 2,
 "cells": [
  {
   "source": [
    "# 张量的结构操作"
   ],
   "cell_type": "markdown",
   "metadata": {}
  },
  {
   "cell_type": "code",
   "execution_count": 2,
   "metadata": {},
   "outputs": [],
   "source": [
    "import tensorflow as tf\n",
    "import numpy as np"
   ]
  },
  {
   "cell_type": "code",
   "execution_count": 3,
   "metadata": {},
   "outputs": [
    {
     "output_type": "execute_result",
     "data": {
      "text/plain": [
       "<tf.Tensor: shape=(3,), dtype=float32, numpy=array([1., 2., 3.], dtype=float32)>"
      ]
     },
     "metadata": {},
     "execution_count": 3
    }
   ],
   "source": [
    "tf.constant([1,2,3],dtype= tf.float32)"
   ]
  },
  {
   "cell_type": "code",
   "execution_count": 4,
   "metadata": {},
   "outputs": [
    {
     "output_type": "execute_result",
     "data": {
      "text/plain": [
       "<tf.Tensor: shape=(5,), dtype=int32, numpy=array([1, 3, 5, 7, 9])>"
      ]
     },
     "metadata": {},
     "execution_count": 4
    }
   ],
   "source": [
    "tf.range(1,10,delta =2)"
   ]
  },
  {
   "cell_type": "code",
   "execution_count": 5,
   "metadata": {},
   "outputs": [
    {
     "output_type": "execute_result",
     "data": {
      "text/plain": [
       "<tf.Tensor: shape=(10,), dtype=float64, numpy=\n",
       "array([ 0.        ,  1.11111111,  2.22222222,  3.33333333,  4.44444444,\n",
       "        5.55555556,  6.66666667,  7.77777778,  8.88888889, 10.        ])>"
      ]
     },
     "metadata": {},
     "execution_count": 5
    }
   ],
   "source": [
    "tf.linspace(0,10,10)"
   ]
  },
  {
   "cell_type": "code",
   "execution_count": 6,
   "metadata": {},
   "outputs": [
    {
     "output_type": "execute_result",
     "data": {
      "text/plain": [
       "<tf.Tensor: shape=(0, 3, 3), dtype=float32, numpy=array([], shape=(0, 3, 3), dtype=float32)>"
      ]
     },
     "metadata": {},
     "execution_count": 6
    }
   ],
   "source": [
    "tf.zeros([0,3,3])"
   ]
  },
  {
   "cell_type": "code",
   "execution_count": 7,
   "metadata": {},
   "outputs": [
    {
     "output_type": "execute_result",
     "data": {
      "text/plain": [
       "<tf.Tensor: shape=(5,), dtype=float32, numpy=\n",
       "array([2.896415 , 1.1041951, 9.253302 , 4.310708 , 9.066988 ],\n",
       "      dtype=float32)>"
      ]
     },
     "metadata": {},
     "execution_count": 7
    }
   ],
   "source": [
    "# 均匀分布\n",
    "tf.random.uniform([5],minval = 0,maxval = 10)"
   ]
  },
  {
   "cell_type": "code",
   "execution_count": 8,
   "metadata": {},
   "outputs": [
    {
     "output_type": "execute_result",
     "data": {
      "text/plain": [
       "<tf.Tensor: shape=(3, 3), dtype=float32, numpy=\n",
       "array([[1., 0., 0.],\n",
       "       [0., 1., 0.],\n",
       "       [0., 0., 1.]], dtype=float32)>"
      ]
     },
     "metadata": {},
     "execution_count": 8
    }
   ],
   "source": [
    "tf.eye(3,3)"
   ]
  },
  {
   "cell_type": "code",
   "execution_count": 9,
   "metadata": {},
   "outputs": [
    {
     "output_type": "execute_result",
     "data": {
      "text/plain": [
       "<tf.Tensor: shape=(3, 3), dtype=int32, numpy=\n",
       "array([[3, 0, 0],\n",
       "       [0, 4, 0],\n",
       "       [0, 0, 2]])>"
      ]
     },
     "metadata": {},
     "execution_count": 9
    }
   ],
   "source": [
    "tf.linalg.diag([3,4,2])"
   ]
  },
  {
   "cell_type": "code",
   "execution_count": 10,
   "metadata": {},
   "outputs": [
    {
     "output_type": "stream",
     "name": "stdout",
     "text": [
      "[[4 7 4 2 9]\n [9 1 2 4 7]\n [7 2 7 4 0]\n [9 6 9 7 2]\n [3 7 0 0 3]]\n"
     ]
    }
   ],
   "source": [
    "tf.random.set_seed(3)\n",
    "t = tf.random.uniform([5,5],minval=0,maxval=10,dtype=tf.int32)\n",
    "tf.print(t)"
   ]
  },
  {
   "cell_type": "code",
   "execution_count": 11,
   "metadata": {},
   "outputs": [
    {
     "output_type": "stream",
     "name": "stdout",
     "text": [
      "[[[27 83 99 ... 70 67 79]\n  [6 97 31 ... 3 40 48]\n  [71 63 31 ... 44 30 86]\n  ...\n  [10 94 95 ... 89 1 13]\n  [61 6 81 ... 24 46 10]\n  [61 20 89 ... 33 95 78]]\n\n [[26 1 5 ... 2 62 29]\n  [40 0 68 ... 37 15 28]\n  [70 60 82 ... 72 64 1]\n  ...\n  [49 60 74 ... 18 87 35]\n  [2 38 41 ... 66 8 74]\n  [37 12 60 ... 57 29 51]]\n\n [[33 79 23 ... 5 24 45]\n  [66 50 83 ... 32 30 58]\n  [47 91 21 ... 59 81 1]\n  ...\n  [98 93 66 ... 55 67 69]\n  [71 93 26 ... 77 11 63]\n  [90 75 74 ... 7 68 14]]\n\n [[72 1 53 ... 97 57 28]\n  [24 5 45 ... 41 86 23]\n  [99 68 54 ... 97 65 85]\n  ...\n  [94 4 69 ... 88 17 93]\n  [28 48 9 ... 73 32 39]\n  [18 2 40 ... 51 37 24]]]\n"
     ]
    }
   ],
   "source": [
    "scores = tf.random.uniform((4,10,7),minval=0,maxval=100,dtype=tf.int32)\n",
    "tf.print(scores)"
   ]
  },
  {
   "cell_type": "code",
   "execution_count": 12,
   "metadata": {},
   "outputs": [
    {
     "output_type": "execute_result",
     "data": {
      "text/plain": [
       "<tf.Tensor: shape=(4, 3, 7), dtype=int32, numpy=\n",
       "array([[[27, 83, 99,  9, 70, 67, 79],\n",
       "        [96, 78, 75, 17,  2,  3, 49],\n",
       "        [61, 20, 89,  9, 33, 95, 78]],\n",
       "\n",
       "       [[26,  1,  5, 17,  2, 62, 29],\n",
       "        [16, 51, 72, 94, 11, 80, 78],\n",
       "        [37, 12, 60, 45, 57, 29, 51]],\n",
       "\n",
       "       [[33, 79, 23, 82,  5, 24, 45],\n",
       "        [46, 73, 64, 71, 27, 39, 13],\n",
       "        [90, 75, 74, 12,  7, 68, 14]],\n",
       "\n",
       "       [[72,  1, 53, 87, 97, 57, 28],\n",
       "        [84, 99, 85, 71, 79, 57, 62],\n",
       "        [18,  2, 40, 74, 51, 37, 24]]])>"
      ]
     },
     "metadata": {},
     "execution_count": 12
    }
   ],
   "source": [
    "tf.gather(scores,[0,5,9],axis = 1)"
   ]
  },
  {
   "cell_type": "code",
   "execution_count": 13,
   "metadata": {},
   "outputs": [
    {
     "output_type": "execute_result",
     "data": {
      "text/plain": [
       "<tf.Tensor: shape=(3, 3), dtype=float32, numpy=\n",
       "array([[nan,  1., nan],\n",
       "       [ 2.,  2., nan],\n",
       "       [ 3., nan,  3.]], dtype=float32)>"
      ]
     },
     "metadata": {},
     "execution_count": 13
    }
   ],
   "source": [
    "c = tf.constant([[-1,1,-1],[2,2,-2],[3,-3,3]],dtype=tf.float32)\n",
    "tf.where(c<0,tf.fill(c.shape,np.nan),c)"
   ]
  },
  {
   "cell_type": "code",
   "execution_count": 14,
   "metadata": {},
   "outputs": [
    {
     "output_type": "execute_result",
     "data": {
      "text/plain": [
       "<tf.Tensor: shape=(3, 3), dtype=float32, numpy=\n",
       "array([[-1.,  1., -1.],\n",
       "       [ 2.,  2., -2.],\n",
       "       [ 3., -3.,  3.]], dtype=float32)>"
      ]
     },
     "metadata": {},
     "execution_count": 14
    }
   ],
   "source": [
    "c"
   ]
  }
 ]
}